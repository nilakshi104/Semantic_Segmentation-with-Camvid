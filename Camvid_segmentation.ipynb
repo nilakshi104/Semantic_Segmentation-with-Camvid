{
  "nbformat": 4,
  "nbformat_minor": 0,
  "metadata": {
    "colab": {
      "name": "Camvid segmentation.ipynb",
      "provenance": [],
      "collapsed_sections": [],
      "authorship_tag": "ABX9TyOJZgedMrj+NL/+4W+53tpe",
      "include_colab_link": true
    },
    "kernelspec": {
      "name": "python3",
      "display_name": "Python 3"
    },
    "accelerator": "GPU"
  },
  "cells": [
    {
      "cell_type": "markdown",
      "metadata": {
        "id": "view-in-github",
        "colab_type": "text"
      },
      "source": [
        "<a href=\"https://colab.research.google.com/github/nilakshi104/Semantic_Segmentation-with-Camvid/blob/master/Camvid_segmentation.ipynb\" target=\"_parent\"><img src=\"https://colab.research.google.com/assets/colab-badge.svg\" alt=\"Open In Colab\"/></a>"
      ]
    },
    {
      "cell_type": "code",
      "metadata": {
        "id": "zBYhbhqibwuk",
        "colab_type": "code",
        "colab": {
          "base_uri": "https://localhost:8080/",
          "height": 35
        },
        "outputId": "121c6d03-4c82-4b76-b131-eadf22f1a578"
      },
      "source": [
        "from google.colab import drive\n",
        "drive.mount('/content/drive')"
      ],
      "execution_count": 1,
      "outputs": [
        {
          "output_type": "stream",
          "text": [
            "Drive already mounted at /content/drive; to attempt to forcibly remount, call drive.mount(\"/content/drive\", force_remount=True).\n"
          ],
          "name": "stdout"
        }
      ]
    },
    {
      "cell_type": "code",
      "metadata": {
        "id": "QbwCtmCQpDNW",
        "colab_type": "code",
        "colab": {
          "base_uri": "https://localhost:8080/",
          "height": 212
        },
        "outputId": "418f23dc-06dd-4a3a-8457-969107ffae74"
      },
      "source": [
        "pip install segmentation-models-pytorch"
      ],
      "execution_count": 2,
      "outputs": [
        {
          "output_type": "stream",
          "text": [
            "Requirement already satisfied: segmentation-models-pytorch in /usr/local/lib/python3.6/dist-packages (0.1.0)\n",
            "Requirement already satisfied: efficientnet-pytorch>=0.5.1 in /usr/local/lib/python3.6/dist-packages (from segmentation-models-pytorch) (0.6.3)\n",
            "Requirement already satisfied: pretrainedmodels==0.7.4 in /usr/local/lib/python3.6/dist-packages (from segmentation-models-pytorch) (0.7.4)\n",
            "Requirement already satisfied: torchvision>=0.3.0 in /usr/local/lib/python3.6/dist-packages (from segmentation-models-pytorch) (0.6.1+cu101)\n",
            "Requirement already satisfied: torch in /usr/local/lib/python3.6/dist-packages (from efficientnet-pytorch>=0.5.1->segmentation-models-pytorch) (1.5.1+cu101)\n",
            "Requirement already satisfied: munch in /usr/local/lib/python3.6/dist-packages (from pretrainedmodels==0.7.4->segmentation-models-pytorch) (2.5.0)\n",
            "Requirement already satisfied: tqdm in /usr/local/lib/python3.6/dist-packages (from pretrainedmodels==0.7.4->segmentation-models-pytorch) (4.41.1)\n",
            "Requirement already satisfied: pillow>=4.1.1 in /usr/local/lib/python3.6/dist-packages (from torchvision>=0.3.0->segmentation-models-pytorch) (7.0.0)\n",
            "Requirement already satisfied: numpy in /usr/local/lib/python3.6/dist-packages (from torchvision>=0.3.0->segmentation-models-pytorch) (1.18.5)\n",
            "Requirement already satisfied: future in /usr/local/lib/python3.6/dist-packages (from torch->efficientnet-pytorch>=0.5.1->segmentation-models-pytorch) (0.16.0)\n",
            "Requirement already satisfied: six in /usr/local/lib/python3.6/dist-packages (from munch->pretrainedmodels==0.7.4->segmentation-models-pytorch) (1.12.0)\n"
          ],
          "name": "stdout"
        }
      ]
    },
    {
      "cell_type": "code",
      "metadata": {
        "id": "-Ojm0AF_cI43",
        "colab_type": "code",
        "colab": {}
      },
      "source": [
        "import cv2\n",
        "from google.colab.patches import cv2_imshow\n",
        "import torch\n",
        "from torch.utils import data\n",
        "import torch.nn as nn\n",
        "from torch.utils.data import DataLoader,Dataset\n",
        "import torch.optim as optim\n",
        "import torchvision\n",
        "from torchvision import datasets, models, transforms\n",
        "import numpy as np\n",
        "import os\n",
        "from torch.optim.lr_scheduler import MultiStepLR\n",
        "import torch.nn.functional as F\n",
        "import matplotlib.pyplot as plt\n",
        "import segmentation_models_pytorch as smp"
      ],
      "execution_count": 3,
      "outputs": []
    },
    {
      "cell_type": "code",
      "metadata": {
        "id": "A5vclskPcMBl",
        "colab_type": "code",
        "colab": {}
      },
      "source": [
        "dataroot = '/content/drive/My Drive/Untitled folder/Camvid dataset/'\n",
        "ckptroot = '/content/drive/My Drive/Untitled folder/Camvid dataset/checkpoint_val/'"
      ],
      "execution_count": 4,
      "outputs": []
    },
    {
      "cell_type": "code",
      "metadata": {
        "id": "nvMpJ5ME7fRS",
        "colab_type": "code",
        "colab": {}
      },
      "source": [
        "np.random.seed(2)"
      ],
      "execution_count": 5,
      "outputs": []
    },
    {
      "cell_type": "code",
      "metadata": {
        "id": "OnVkZoj0cP27",
        "colab_type": "code",
        "colab": {
          "base_uri": "https://localhost:8080/",
          "height": 772
        },
        "outputId": "99f06fa8-b047-4c9e-bb35-ca3732ccc9a2"
      },
      "source": [
        "k=cv2.imread('/content/drive/My Drive/Untitled folder/Camvid dataset/train/0001TP_006690.png')\n",
        "print(k.shape)\n",
        "k_l=cv2.imread('/content/drive/My Drive/Untitled folder/Camvid dataset/train_labels/0001TP_006690_L.png')\n",
        "print(k_l.shape)\n",
        "cv2_imshow(k_l)"
      ],
      "execution_count": 6,
      "outputs": [
        {
          "output_type": "stream",
          "text": [
            "(720, 960, 3)\n",
            "(720, 960, 3)\n"
          ],
          "name": "stdout"
        },
        {
          "output_type": "display_data",
          "data": {
            "image/png": "[encoded data removed]",
            "text/plain": [
              "<PIL.Image.Image image mode=RGB size=960x720 at 0x7FCAF1D4C160>"
            ]
          },
          "metadata": {
            "tags": []
          }
        }
      ]
    },
    {
      "cell_type": "code",
      "metadata": {
        "id": "21mTeL4ucUDT",
        "colab_type": "code",
        "colab": {}
      },
      "source": [
        "def load_img(folder):\n",
        "    images = [];\n",
        "    for filename in os.listdir(folder): # List all the filenames in the folder\n",
        "        img = cv2.imread(os.path.join(folder, filename)); # Join the link of the folder and filename\n",
        "        img = cv2.resize(img, (256,256), interpolation = cv2.INTER_AREA);\n",
        "        images.append(img);\n",
        "    return images\n",
        "\n",
        "# To load labeled gray-scaled images\n",
        "\n",
        "def load_label_img(folder):\n",
        "    images = [];\n",
        "    for filename in os.listdir(folder): # List all the filenames in the folder\n",
        "        img = cv2.imread(os.path.join(folder, filename)); # Join the link of the folder and filename\n",
        "        img = cv2.resize(img, (256,256), interpolation = cv2.INTER_AREA);\n",
        "        img = cv2.cvtColor(img, cv2.COLOR_BGR2GRAY);\n",
        "        images.append(img);\n",
        "    return images"
      ],
      "execution_count": 7,
      "outputs": []
    },
    {
      "cell_type": "code",
      "metadata": {
        "id": "KU96wPJKcdRC",
        "colab_type": "code",
        "colab": {
          "base_uri": "https://localhost:8080/",
          "height": 141
        },
        "outputId": "af6650dd-b0c7-42de-a8a4-21e35942b0c7"
      },
      "source": [
        "labels_name= np.loadtxt(dataroot+'labels1.txt',delimiter='\\n',dtype=str);\n",
        "labels_name"
      ],
      "execution_count": 8,
      "outputs": [
        {
          "output_type": "execute_result",
          "data": {
            "text/plain": [
              "array(['Animal', 'Archway', 'Bicyclist', 'Bridge', 'Building', 'Car',\n",
              "       'CartLuggagePram', 'Child', 'Column_Pole', 'Fence', 'LaneMkgsDriv',\n",
              "       'LaneMkgsNonDriv', 'Misc_Text', 'MotorcycleScooter', 'OtherMoving',\n",
              "       'ParkingBlock', 'Pedestrian', 'Road', 'RoadShoulder', 'Sidewalk',\n",
              "       'SignSymbol', 'Sky', 'SUVPickupTruck', 'TrafficCone',\n",
              "       'TrafficLight', 'Train', 'Tree', 'Truck_Bus', 'TunnelVegetation',\n",
              "       'Misc', 'Void', 'Wall'], dtype='<U17')"
            ]
          },
          "metadata": {
            "tags": []
          },
          "execution_count": 8
        }
      ]
    },
    {
      "cell_type": "code",
      "metadata": {
        "id": "BdkMyylXcjr7",
        "colab_type": "code",
        "colab": {}
      },
      "source": [
        "colors=[]\n",
        "def c2g(cn):\n",
        "    cn = np.reshape(cn, (1, 1, 3));\n",
        "    cn = cv2.cvtColor(cn, cv2.COLOR_BGR2GRAY);\n",
        "    return cn;\n",
        "colors.append(c2g(np.array([64, 128, 64], dtype = 'uint8')));# opencv supports uint8 and not int32/int64\n",
        "colors.append(c2g(np.array([128, 0, 192], dtype = 'uint8')));\n",
        "colors.append(c2g(np.array([192, 128, 0], dtype = 'uint8')));\n",
        "colors.append(c2g(np.array([64, 128, 0], dtype = 'uint8')));\n",
        "colors.append(c2g(np.array([0, 0, 128], dtype = 'uint8')));\n",
        "colors.append(c2g(np.array([128, 0, 64], dtype = 'uint8')));\n",
        "colors.append(c2g(np.array([192, 0, 64], dtype = 'uint8')));\n",
        "colors.append(c2g(np.array([64, 128, 192], dtype = 'uint8')));\n",
        "colors.append(c2g(np.array([128, 192, 192], dtype = 'uint8')));\n",
        "colors.append(c2g(np.array([128, 64, 64], dtype = 'uint8')));\n",
        "colors.append(c2g(np.array([192, 0, 128], dtype = 'uint8')));\n",
        "colors.append(c2g(np.array([64, 0, 192], dtype = 'uint8')));\n",
        "colors.append(c2g(np.array([64, 128, 128], dtype = 'uint8')));\n",
        "colors.append(c2g(np.array([192, 0, 192], dtype = 'uint8')));\n",
        "colors.append(c2g(np.array([64, 64, 128], dtype = 'uint8')));\n",
        "colors.append(c2g(np.array([128, 192, 64], dtype = 'uint8')));\n",
        "colors.append(c2g(np.array([0, 64, 64], dtype = 'uint8')));\n",
        "colors.append(c2g(np.array([128, 64, 128], dtype = 'uint8')));\n",
        "colors.append(c2g(np.array([192, 128, 128], dtype = 'uint8')));\n",
        "colors.append(c2g(np.array([192, 0, 0], dtype = 'uint8')));\n",
        "colors.append(c2g(np.array([128, 128, 192], dtype = 'uint8')));\n",
        "colors.append(c2g(np.array([128, 128, 128], dtype = 'uint8')));\n",
        "colors.append(c2g(np.array([192, 128, 64], dtype = 'uint8')));\n",
        "colors.append(c2g(np.array([64, 0, 0], dtype = 'uint8')));\n",
        "colors.append(c2g(np.array([64, 64, 0], dtype = 'uint8')));\n",
        "colors.append(c2g(np.array([128, 64, 192], dtype = 'uint8')));\n",
        "colors.append(c2g(np.array([0, 128, 128], dtype = 'uint8')));\n",
        "colors.append(c2g(np.array([192, 128, 192], dtype = 'uint8')));\n",
        "colors.append(c2g(np.array([64, 0, 64], dtype = 'uint8')));\n",
        "colors.append(c2g(np.array([0, 192, 192], dtype = 'uint8')));\n",
        "colors.append(c2g(np.array([0, 0, 0], dtype = 'uint8')));\n",
        "colors.append(c2g(np.array([0, 192, 64], dtype = 'uint8')));\n",
        "\n",
        "def class_pixel(label_img):\n",
        "    class_pix = np.ones([256,256, 1], dtype = int);\n",
        "    for index, c in enumerate(colors):\n",
        "        class_pix[label_img == c] = index; # Vectorized masking is much much faster\n",
        "    return class_pix\n",
        "\n",
        "\n",
        "def label_img_list(img_list):\n",
        "    images = [];\n",
        "    for image in img_list:\n",
        "        images.append(class_pixel(image));\n",
        "    return images;\n"
      ],
      "execution_count": 9,
      "outputs": []
    },
    {
      "cell_type": "code",
      "metadata": {
        "id": "7IR1h-7nco84",
        "colab_type": "code",
        "colab": {}
      },
      "source": [
        "np.random.seed(2)\n",
        "transform_img = transforms.Compose([ \n",
        "    transforms.ToTensor(),\n",
        "    transforms.Normalize(mean=[0.409, 0.4, 0.38],   # input[channel] = (input[channel] - mean[channel]) / std[channel]\n",
        "                        std=[0.27, 0.27, 0.26])])\n",
        "\n",
        "transform_img_label = transforms.Compose([\n",
        "    transforms.ToTensor()\n",
        "])\n",
        "# We have to create custom classes in order to use the DataLoader. These classes inherit the Dataset class\n",
        "\n",
        "class trainset(data.Dataset):\n",
        "    def __init__(self, transform = None, root_train = None, root_train_label = None, transform_label = None):\n",
        "        self.train_img = load_img(root_train);\n",
        "        self.transform = transform;\n",
        "        self.transform_label = transform_label;\n",
        "        self.train_label_img = label_img_list(load_label_img(root_train_label));\n",
        "        \n",
        "    def __len__(self):\n",
        "        return len(self.train_img);\n",
        "    \n",
        "    def __getitem__(self, index):\n",
        "      \n",
        "        img = self.transform(self.train_img[index]);\n",
        "        label = self.transform_label(self.train_label_img[index]);\n",
        "        return img, label;\n",
        "\n",
        "class valset(data.Dataset):\n",
        "    def __init__(self, transform = None, root_val = None, root_val_label = None, transform_label = None):\n",
        "        self.val_img = load_img(root_val);\n",
        "        self.transform = transform;\n",
        "        self.transform_label = transform_label;\n",
        "        self.val_label_img = label_img_list(load_label_img(root_val_label));\n",
        "        \n",
        "    def __len__(self):\n",
        "        return len(self.val_img);\n",
        "    \n",
        "    def __getitem__(self, index):\n",
        "        img = self.transform(self.val_img[index]);\n",
        "        label = self.transform_label(self.val_label_img[index]);\n",
        "        return img, label\n",
        "\n",
        "    \n",
        "class testset(data.Dataset):\n",
        "    def __init__(self, transform = None, root_test = None, root_test_label = None, transform_label = None):\n",
        "        self.test_img = load_img(root_test);\n",
        "        self.transform = transform;\n",
        "        self.transform_label = transform_label;\n",
        "        self.test_label_img = label_img_list(load_label_img(root_test_label));\n",
        "        \n",
        "    def __len__(self):\n",
        "        return len(self.test_img);\n",
        "    \n",
        "    def __getitem__(self, index):\n",
        "        img = self.transform(self.test_img[index]);\n",
        "        label = self.transform_label(self.test_label_img[index]);\n",
        "        return img, label\n",
        "\n",
        "\n",
        "# traindataset = trainset(transform_img,dataroot+'train/',dataroot+'train_labels/' , transform_img_label);\n",
        "testdataset = testset(transform_img,dataroot+'test/',dataroot+'test_labels/' , transform_img_label);\n",
        "# valdataset = valset(transform_img,dataroot+'val/',dataroot+'val_labels/' , transform_img_label);"
      ],
      "execution_count": 10,
      "outputs": []
    },
    {
      "cell_type": "code",
      "metadata": {
        "id": "_AN7jmysfl-4",
        "colab_type": "code",
        "colab": {}
      },
      "source": [
        "batch_size=2\n",
        "batch_size1=5\n",
        "num_workers=1\n",
        "# train_loader = data.DataLoader(traindataset,batch_size= batch_size , shuffle=True,  num_workers=num_workers);\n",
        "test_loader = data.DataLoader(testdataset,batch_size= batch_size1 , shuffle=True,  num_workers=num_workers);\n",
        "# val_loader = data.DataLoader(valdataset ,batch_size= batch_size , shuffle=True,  num_workers=num_workers);"
      ],
      "execution_count": 11,
      "outputs": []
    },
    {
      "cell_type": "code",
      "metadata": {
        "id": "uZW9Jlwq4ftG",
        "colab_type": "code",
        "colab": {}
      },
      "source": [
        "CLASSES = ['Animal', 'Archway', 'Bicyclist', 'Bridge', 'Building', 'Car',\n",
        "       'CartLuggagePram', 'Child', 'Column_Pole', 'Fence', 'LaneMkgsDriv',\n",
        "       'LaneMkgsNonDriv', 'Misc_Text', 'MotorcycleScooter', 'OtherMoving',\n",
        "       'ParkingBlock', 'Pedestrian', 'Road', 'RoadShoulder', 'Sidewalk',\n",
        "       'SignSymbol', 'Sky', 'SUVPickupTruck', 'TrafficCone',\n",
        "       'TrafficLight', 'Train', 'Tree', 'Truck_Bus', 'TunnelVegetation',\n",
        "       'Misc', 'Void', 'Wall']\n",
        "       \n",
        "BACKBONE='resnet34'\n",
        "n_classes=len(CLASSES)\n",
        "activation='softmax2d'               #as ACTIVATION = None for logits or 'softmax2d' for multiclass segmentation\n",
        "model = smp.Unet(BACKBONE, classes=n_classes, activation=activation)\n",
        "model"
      ],
      "execution_count": 29,
      "outputs": []
    },
    {
      "cell_type": "code",
      "metadata": {
        "id": "C3rFsYWZgGBZ",
        "colab_type": "code",
        "colab": {
          "base_uri": "https://localhost:8080/",
          "height": 35
        },
        "outputId": "e8947afc-b3ec-4a5d-fc1a-00dff32c9e6e"
      },
      "source": [
        "# model=torchvision.models.resnet34(pretrained=True)\n",
        "# for param in model.parameters():\n",
        "#   param.requires_grad=False\n",
        "# newmodel=torch.nn.Sequential(*(list(model.children())[:-2]))\n",
        "# newmodel.conv= nn.Sequential(\n",
        "#             nn.Conv2d(512, 1024, kernel_size=(3,3), padding=(1,1),stride=(1, 1)),\n",
        "#             nn.BatchNorm2d(1024),\n",
        "#             nn.Conv2d(1024, 32, kernel_size=(1, 1), stride=(2, 2), bias=False),\n",
        "#             nn.BatchNorm2d(32, eps=1e-05, momentum=0.1, affine=True, track_running_stats=True)\n",
        "# )\n",
        "\"\"\"\n",
        "for finetuning guide:\n",
        "https://pytorch.org/tutorials/beginner/finetuning_torchvision_models_tutorial.html\n",
        "\"\"\""
      ],
      "execution_count": 30,
      "outputs": [
        {
          "output_type": "execute_result",
          "data": {
            "text/plain": [
              "'\\nfor finetuning guide:\\nhttps://pytorch.org/tutorials/beginner/finetuning_torchvision_models_tutorial.html\\n'"
            ]
          },
          "metadata": {
            "tags": []
          },
          "execution_count": 30
        }
      ]
    },
    {
      "cell_type": "code",
      "metadata": {
        "id": "ZH4SeO-MdJ33",
        "colab_type": "code",
        "colab": {}
      },
      "source": [
        "# epochs=50\n",
        "# start_epoch=0\n",
        "# lr=1e-5\n",
        "# wd=1e-7\n",
        "# optimizer = optim.Adam(model.parameters(),\n",
        "#                        lr=lr,\n",
        "#                        weight_decay=wd,\n",
        "#                        betas = (0.99, 0.9),\n",
        "#                        eps = 1e-7)\n",
        "# criterion = nn.CrossEntropyLoss();\n",
        "# scheduler = MultiStepLR(optimizer, milestones=[20,40], gamma=0.1)\n",
        "# device = torch.device('cuda:0' if torch.cuda.is_available() else 'cpu')\n",
        "# print(device)\n",
        "# def toDevice(datas, device):\n",
        "#     imgs, labels = datas\n",
        "#     return imgs.to(device), labels.to(device)"
      ],
      "execution_count": 31,
      "outputs": []
    },
    {
      "cell_type": "code",
      "metadata": {
        "id": "4S2kn2TChhHc",
        "colab_type": "code",
        "colab": {}
      },
      "source": [
        "class Trainer(object):\n",
        "  'Trainer'\n",
        "  def __init__(self,\n",
        "               ckptroot,\n",
        "               model,\n",
        "               devices,\n",
        "               epochs,\n",
        "               criterion,\n",
        "               optimizer,\n",
        "               scheduler,\n",
        "               start_epoch,\n",
        "               train_loader,\n",
        "               val_loader\n",
        "               ):\n",
        "      super(Trainer,self).__init__()\n",
        "\n",
        "      self.model=model\n",
        "      self.device=device\n",
        "      self.epochs=epochs\n",
        "      self.ckptroot=ckptroot\n",
        "      self.criterion=criterion\n",
        "      self.optimizer=optimizer\n",
        "      self.scheduler=scheduler\n",
        "      self.start_epoch=start_epoch\n",
        "      self.train_loader=train_loader\n",
        "      self.val_loader=val_loader\n",
        "\n",
        "  def train(self):\n",
        "      # trainloss=[]\n",
        "      # valloss=[]\n",
        "      trainloss1=[]\n",
        "      valloss1=[]\n",
        "      # self.model.to(self.device)\n",
        "      for epoch in range(self.start_epoch,self.epochs+self.start_epoch):\n",
        "        print(epoch)\n",
        "        train_loss=0\n",
        "        self.model.train()\n",
        "        for local_batch,train_img  in enumerate(self.train_loader):\n",
        "          # train_img=toDevice(train_img,self.device)\n",
        "          self.optimizer.zero_grad()\n",
        "          imgs,labels=train_img\n",
        "          output=self.model(imgs)\n",
        "          # print(output.size())\n",
        "          outpt=output.type(torch.LongTensor)\n",
        "          loss=self.criterion(output,labels.squeeze(1))\n",
        "          loss.backward()\n",
        "          self.optimizer.step()\n",
        "          train_loss +=loss\n",
        "        \n",
        "          # if local_batch % 25 ==0:\n",
        "          #   print(f\"Training Epoch: {epoch} | Loss: {loss} | Training_Loss: {train_loss/(local_batch+1)}\")\n",
        "\n",
        "        # trainloss.append(train_loss/(local_batch+1))\n",
        "        trainloss1.append(train_loss)\n",
        "\n",
        "        self.scheduler.step()\n",
        "        self.model.eval()\n",
        "        valid_loss=0\n",
        "        with torch.set_grad_enabled(False):\n",
        "          for local_batch,val_img in enumerate(self.val_loader):\n",
        "              # val_img=toDevice(val_img,self.device)\n",
        "              self.optimizer.zero_grad()\n",
        "              imgs,labels=val_img\n",
        "              output=self.model(imgs)\n",
        "              outpt=output.type(torch.LongTensor)\n",
        "              loss=self.criterion(output,labels.squeeze(1))\n",
        "              valid_loss += loss\n",
        "              # if local_batch % 25 ==0:\n",
        "                # print(f\"Val Epoch: {epoch} | Loss: {valid_loss / (local_batch + 1)}\")\n",
        "\n",
        "          # valloss.append(valid_loss/(local_batch+1))\n",
        "          valloss1.append(valid_loss)\n",
        "          \n",
        "          # Save model\n",
        "        if epoch==30 or epoch==40 or epoch>48 :\n",
        "            state = {\n",
        "                'epoch': epoch + 1,\n",
        "                'model_state_dict': self.model.state_dict(),\n",
        "                'optimizer_state_dict': self.optimizer.state_dict(),\n",
        "                'scheduler_state_dict': self.scheduler.state_dict(),\n",
        "                'input_size':3,\n",
        "                'output_size':1,\n",
        "                # 'hidden_layers':[each.out_features for each in model.hidden_layers],\n",
        "                'loss':loss\n",
        "            }\n",
        "            self.save_checkpoint(state)\n",
        "            print(\"==> Save checkpoint ...\")\n",
        "\n",
        "      plt.subplot(2,1,1)\n",
        "      plt.plot(trainloss1)\n",
        "      plt.subplot(2,1,2)\n",
        "      plt.plot(valloss1)\n",
        "\n",
        "\n",
        "  def save_checkpoint(self, state):\n",
        "    \"\"\"Save checkpoint.\"\"\"\n",
        "    print(\"==> Save checkpoint ...\")\n",
        "    if not os.path.exists(self.ckptroot):\n",
        "        os.makedirs(self.ckptroot)\n",
        "\n",
        "    torch.save(state, self.ckptroot + 'camvid segmentation model:-{}.h5'.format(state['epoch']))\n",
        "           "
      ],
      "execution_count": 32,
      "outputs": []
    },
    {
      "cell_type": "code",
      "metadata": {
        "id": "RO2RGg2Zja1H",
        "colab_type": "code",
        "colab": {}
      },
      "source": [
        "print(\"==> Start training ...\")\n",
        "trainer = Trainer(ckptroot,\n",
        "                  model,\n",
        "                  device,\n",
        "                  epochs,\n",
        "                  criterion,\n",
        "                  optimizer,\n",
        "                  scheduler,\n",
        "                  start_epoch,\n",
        "                  train_loader,\n",
        "                  val_loader)\n",
        "trainer.train()"
      ],
      "execution_count": 33,
      "outputs": []
    },
    {
      "cell_type": "code",
      "metadata": {
        "id": "X1V37GRrSbJB",
        "colab_type": "code",
        "colab": {}
      },
      "source": [
        "\"\"\" using trained parameters stored in h file in model \"\"\"\n",
        "\n",
        "filepath='/content/drive/My Drive/Untitled folder/Camvid dataset/checkpoint_val/camvid segmentation model:-41.h5'\n",
        "checkpoint=torch.load(filepath)\n",
        "BACKBONE='resnet34'\n",
        "CLASSES = ['Animal', 'Archway', 'Bicyclist', 'Bridge', 'Building', 'Car',\n",
        "       'CartLuggagePram', 'Child', 'Column_Pole', 'Fence', 'LaneMkgsDriv',\n",
        "       'LaneMkgsNonDriv', 'Misc_Text', 'MotorcycleScooter', 'OtherMoving',\n",
        "       'ParkingBlock', 'Pedestrian', 'Road', 'RoadShoulder', 'Sidewalk',\n",
        "       'SignSymbol', 'Sky', 'SUVPickupTruck', 'TrafficCone',\n",
        "       'TrafficLight', 'Train', 'Tree', 'Truck_Bus', 'TunnelVegetation',\n",
        "       'Misc', 'Void', 'Wall']\n",
        "n_classes=len(CLASSES)\n",
        "activation=None\n",
        "model = smp.Unet(BACKBONE, classes=n_classes, activation=activation)\n",
        "model.load_state_dict(checkpoint['model_state_dict'])\n",
        "optimizer = optim.Adam(model.parameters())\n",
        "optimizer.load_state_dict(checkpoint['optimizer_state_dict'])\n",
        "epoch=checkpoint['epoch']\n",
        "scheduler=checkpoint['scheduler_state_dict']\n",
        "state_dict=checkpoint['model_state_dict']\n",
        "# print(state_dict)\n",
        "# model.eval()"
      ],
      "execution_count": 46,
      "outputs": []
    },
    {
      "cell_type": "code",
      "metadata": {
        "id": "4RUQiyfPdmWi",
        "colab_type": "code",
        "colab": {}
      },
      "source": [
        "# for i in scheduler['_last_lr']:\n",
        "#   k=i\n",
        "# lr=k\n",
        "# wd=1e-7\n",
        "# criterion = nn.CrossEntropyLoss();\n",
        "# device = torch.device('cuda:0' if torch.cuda.is_available() else 'cpu')\n",
        "# print(device)\n",
        "# def toDevice(datas, device):\n",
        "#     imgs, labels = datas\n",
        "#     return imgs.to(device), labels.to(device)"
      ],
      "execution_count": 13,
      "outputs": []
    },
    {
      "cell_type": "code",
      "metadata": {
        "id": "pz2C_KrVvVcb",
        "colab_type": "code",
        "colab": {
          "base_uri": "https://localhost:8080/",
          "height": 35
        },
        "outputId": "96b6da28-21c7-4eb3-d3fd-1720273497af"
      },
      "source": [
        "name2id = {v:k for k,v in enumerate(labels_name)}\n",
        "void_code=name2id['Void']\n",
        "\n",
        "def corr(x): # To get proper correspondence between the outputs and the labels\n",
        "    # x = x.cpu();\n",
        "    x = x.detach().numpy(); # Detach() was used as one can't convert a pytorch tensor to a numpy array if required_grad is set True for that variable\n",
        "    x = x.argmax(axis = 1);\n",
        "    return x;\n",
        "\n",
        "# # Compute test-set accuracy\n",
        "\n",
        "correct = 0;\n",
        "total = 0;\n",
        "for i, data in enumerate(test_loader):\n",
        "    inputs, labels = data;\n",
        "    outputs = model(inputs);\n",
        "    outputs = corr(outputs);\n",
        "    labels = labels.detach().numpy();\n",
        "    # outputs = outputs.squeeze(1)\n",
        "    outputs=np.squeeze(outputs)\n",
        "    # labels=labels.squeeze(1)\n",
        "    labels=np.squeeze(labels)\n",
        "    for i in range(256):\n",
        "      for j in range(256):\n",
        "          total = total + 1;\n",
        "          if labels.any() != void_code:\n",
        "            if (outputs[1, i, j] == labels[1, i, j]):\n",
        "              correct = correct + 1;\n",
        "          else:\n",
        "            correct=correct+1\n",
        "            print('void')\n",
        "\n",
        "print(\"Hence, the test set accuracy is \", (correct/total) * 100);"
      ],
      "execution_count": 47,
      "outputs": [
        {
          "output_type": "stream",
          "text": [
            "Hence, the test set accuracy is  57.79764512005974\n"
          ],
          "name": "stdout"
        }
      ]
    },
    {
      "cell_type": "code",
      "metadata": {
        "id": "PsBJuscYn6kP",
        "colab_type": "code",
        "colab": {
          "base_uri": "https://localhost:8080/",
          "height": 266
        },
        "outputId": "e53e63fa-25d6-421e-bf0f-8f077709634b"
      },
      "source": [
        "colors_rev = [];\n",
        "colors_rev.append(np.array([64, 128, 64], dtype = 'uint8'));\n",
        "colors_rev.append(np.array([128, 0, 192], dtype = 'uint8'));\n",
        "colors_rev.append(np.array([192, 128, 0], dtype = 'uint8'));\n",
        "colors_rev.append(np.array([64, 128, 0], dtype = 'uint8'));\n",
        "colors_rev.append(np.array([0, 0, 128], dtype = 'uint8'));\n",
        "colors_rev.append(np.array([128, 0, 64], dtype = 'uint8'));\n",
        "colors_rev.append(np.array([192, 0, 64], dtype = 'uint8'));\n",
        "colors_rev.append(np.array([64, 128, 192], dtype = 'uint8'));\n",
        "colors_rev.append(np.array([128, 192, 192], dtype = 'uint8'));\n",
        "colors_rev.append(np.array([128, 64, 64], dtype = 'uint8'));\n",
        "colors_rev.append(np.array([192, 0, 128], dtype = 'uint8'));\n",
        "colors_rev.append(np.array([64, 0, 192], dtype = 'uint8'));\n",
        "colors_rev.append(np.array([64, 128, 128], dtype = 'uint8'));\n",
        "colors_rev.append(np.array([192, 0, 192], dtype = 'uint8'));\n",
        "colors_rev.append(np.array([64, 64, 128], dtype = 'uint8'));\n",
        "colors_rev.append(np.array([128, 192, 64], dtype = 'uint8'));\n",
        "colors_rev.append(np.array([0, 64, 64], dtype = 'uint8'));\n",
        "colors_rev.append(np.array([128, 64, 128], dtype = 'uint8'));\n",
        "colors_rev.append(np.array([192, 128, 128], dtype = 'uint8'));\n",
        "colors_rev.append(np.array([192, 0, 0], dtype = 'uint8'));\n",
        "colors_rev.append(np.array([128, 128, 192], dtype = 'uint8'));\n",
        "colors_rev.append(np.array([128, 128, 128], dtype = 'uint8'));\n",
        "colors_rev.append(np.array([192, 128, 64], dtype = 'uint8'));\n",
        "colors_rev.append(np.array([64, 0, 0], dtype = 'uint8'));\n",
        "colors_rev.append(np.array([64, 64, 0], dtype = 'uint8'));\n",
        "colors_rev.append(np.array([128, 64, 192], dtype = 'uint8'));\n",
        "colors_rev.append(np.array([0, 128, 128], dtype = 'uint8'));\n",
        "colors_rev.append(np.array([192, 128, 192], dtype = 'uint8'));\n",
        "colors_rev.append(np.array([64, 0, 64], dtype = 'uint8'));\n",
        "colors_rev.append(np.array([0, 192, 192], dtype = 'uint8'));\n",
        "colors_rev.append(np.array([0, 0, 0], dtype = 'uint8'))\n",
        "colors_rev.append(np.array([0, 192, 64], dtype = 'uint8'));\n",
        "\n",
        "def test(op_img):\n",
        "    class_pix = np.ones([256,256, 3], dtype = 'uint8');\n",
        "    for index, c in enumerate(colors_rev):\n",
        "        class_pix[op_img == index] = c; # Vectorized masking is much much faster\n",
        "    # return class_pix.reshape((85,85, 3))\n",
        "    return class_pix\n",
        "\n",
        "print(labels[0])\n",
        "print(outputs[0])"
      ],
      "execution_count": 48,
      "outputs": [
        {
          "output_type": "stream",
          "text": [
            "[[21 21 21 ... 21 21 21]\n",
            " [21 21 21 ... 21 21 21]\n",
            " [21 21 21 ... 21 21 21]\n",
            " ...\n",
            " [18 18 18 ... 17 17 17]\n",
            " [18 18 18 ... 17 17 17]\n",
            " [18 18 18 ... 17 17 17]]\n",
            "[[21 26 26 ...  4 21  4]\n",
            " [21 26 26 ...  4 21  4]\n",
            " [26 26 26 ...  4  4  4]\n",
            " ...\n",
            " [19 19 19 ... 17 17 17]\n",
            " [17 17 19 ... 17 17 17]\n",
            " [17 17 17 ... 17 17 17]]\n"
          ],
          "name": "stdout"
        }
      ]
    },
    {
      "cell_type": "code",
      "metadata": {
        "id": "oN1ayfuonpAK",
        "colab_type": "code",
        "colab": {}
      },
      "source": [
        "# # outputs=outputs.detach().numpy()\n",
        "# print(type(test(outputs[1])));\n",
        "# a = test(outputs[1]);\n",
        "# a = a.reshape([256,256, 3])\n",
        "# print(a.shape)\n",
        "# from google.colab.patches import cv2_imshow\n",
        "# cv2_imshow(a)"
      ],
      "execution_count": 55,
      "outputs": []
    },
    {
      "cell_type": "code",
      "metadata": {
        "id": "1bMHARRnpV5n",
        "colab_type": "code",
        "colab": {}
      },
      "source": [
        "# d=test(labels[1])\n",
        "# cv2_imshow(d)"
      ],
      "execution_count": 56,
      "outputs": []
    }
  ]
}